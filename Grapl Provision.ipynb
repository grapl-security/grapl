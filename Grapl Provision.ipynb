{
 "cells": [
  {
   "cell_type": "code",
   "execution_count": 17,
   "metadata": {
    "scrolled": true
   },
   "outputs": [
    {
     "name": "stdout",
     "output_type": "stream",
     "text": [
      "Requirement already up-to-date: grapl_analyzerlib in /home/ec2-user/anaconda3/envs/python3/lib/python3.6/site-packages (0.1.267)\r\n",
      "Requirement already satisfied, skipping upgrade: pydgraph in /home/ec2-user/anaconda3/envs/python3/lib/python3.6/site-packages (from grapl_analyzerlib) (2.0.2)\r\n",
      "Requirement already satisfied, skipping upgrade: protobuf>=3.6.1 in /home/ec2-user/anaconda3/envs/python3/lib/python3.6/site-packages (from pydgraph->grapl_analyzerlib) (3.6.1)\r\n",
      "Requirement already satisfied, skipping upgrade: grpcio>=1.18.0 in /home/ec2-user/anaconda3/envs/python3/lib/python3.6/site-packages (from pydgraph->grapl_analyzerlib) (1.24.3)\r\n",
      "Requirement already satisfied, skipping upgrade: six>=1.9 in /home/ec2-user/anaconda3/envs/python3/lib/python3.6/site-packages (from protobuf>=3.6.1->pydgraph->grapl_analyzerlib) (1.11.0)\r\n",
      "Requirement already satisfied, skipping upgrade: setuptools in /home/ec2-user/anaconda3/envs/python3/lib/python3.6/site-packages (from protobuf>=3.6.1->pydgraph->grapl_analyzerlib) (39.1.0)\r\n"
     ]
    }
   ],
   "source": [
    "!pip install grapl_analyzerlib --upgrade"
   ]
  },
  {
   "cell_type": "code",
   "execution_count": 44,
   "metadata": {},
   "outputs": [],
   "source": [
    "import json\n",
    "import pydgraph\n",
    "\n",
    "from pydgraph import DgraphClient, DgraphClientStub\n",
    "from grapl_analyzerlib.schemas import *"
   ]
  },
  {
   "cell_type": "code",
   "execution_count": 50,
   "metadata": {},
   "outputs": [],
   "source": [
    "class RiskSchema(NodeSchema):\n",
    "    def __init__(self):\n",
    "        super(RiskSchema, self).__init__()\n",
    "        (\n",
    "            self\n",
    "            .with_str_prop('analyzer_name')\n",
    "            .with_int_prop('risk_score')\n",
    "        )\n",
    "    \n",
    "    @staticmethod\n",
    "    def self_type() -> str:\n",
    "        return 'Risk'\n",
    "    \n",
    "class LensSchema(NodeSchema):\n",
    "    def __init__(self):\n",
    "        super(LensSchema, self).__init__()\n",
    "        (\n",
    "            self\n",
    "            .with_str_prop('lens')\n",
    "            .with_int_prop('score')\n",
    "            .with_forward_edge('scope', [AnyNodeSchema])\n",
    "        )\n",
    "    \n",
    "    @staticmethod\n",
    "    def self_type() -> str:\n",
    "        return 'Risk'\n",
    "    \n",
    "def set_schema(client, schema, engagement=False):\n",
    "    if engagement:\n",
    "        schema.with_forward_edge('risks', RiskSchema)\n",
    "        \n",
    "    op = pydgraph.Operation(schema=schema)\n",
    "    client.alter(op)\n",
    "                 \n",
    "                \n",
    "def drop_all(client):\n",
    "    op = pydgraph.Operation(drop_all=True)\n",
    "    client.alter(op)\n",
    "    \n",
    "def format_schemas(schema_defs):\n",
    "    schemas = \"\\n\\n\".join([schema.to_schema_str() for schema in schema_defs])\n",
    "\n",
    "    types = \"\\n\\n\".join([schema.generate_type() for schema in schema_defs])\n",
    "\n",
    "    return \"\\n\".join([\n",
    "        \"  # Type Definitions\",\n",
    "        types,\n",
    "        \"\\n  # Schema Definitions\",\n",
    "        schemas,\n",
    "    ])"
   ]
  },
  {
   "cell_type": "code",
   "execution_count": 31,
   "metadata": {},
   "outputs": [],
   "source": [
    "mclient = DgraphClient(DgraphClientStub('alpha0.mastergraphcluster.grapl:9080'))\n",
    "eclient = DgraphClient(DgraphClientStub('alpha0.engagementgraphcluster.grapl:9080'))"
   ]
  },
  {
   "cell_type": "code",
   "execution_count": 53,
   "metadata": {
    "scrolled": true
   },
   "outputs": [],
   "source": [
    "# drop_all(mclient)\n",
    "drop_all(eclient)\n",
    "\n",
    "schemas = (\n",
    "    ProcessSchema(), \n",
    "    FileSchema(), \n",
    "    OutboundConnectionSchema(), \n",
    "    ExternalIpSchema(), \n",
    "    AuidSchema(),\n",
    "    AuidAssumptionSchema(),\n",
    "    UserIdSchema(),\n",
    "    UserIdAssumptionSchema(),\n",
    "    IpcSchema()\n",
    ")\n",
    "\n",
    "schema_str = format_schemas(schemas)\n",
    "set_schema(mclient, schema_str)\n",
    "\n",
    "\n",
    "risk_schema = RiskSchema()\n",
    "lens_schema = LensSchema()\n",
    "eg_schemas = [s.with_forward_edge('risks', [RiskSchema]) for s in schemas]\n",
    "eg_schemas.extend([risk_schema, lens_schema])\n",
    "eg_schema_str = format_schemas(eg_schemas)\n",
    "set_schema(eclient, eg_schema_str)\n"
   ]
  },
  {
   "cell_type": "code",
   "execution_count": 52,
   "metadata": {},
   "outputs": [],
   "source": [
    "# CLEAR CACHE\n",
    "def clear_redis_caches():\n",
    "    from redis import Redis\n",
    "\n",
    "    def chunker(seq, size):\n",
    "        return [seq[pos:pos + size] for pos in range(0, len(seq), size)]\n",
    "    red = Redis()\n",
    "    CACHE_ADDRS = [\n",
    "        \"gra-gr-1h7vxdadzip98.b2fixp.0001.use1.cache.amazonaws.com\",\n",
    "        \"gra-gr-1o2uc0akc68z4.b2fixp.0001.use1.cache.amazonaws.com\",\n",
    "        \"gra-gr-2mhiu3q9eilo.b2fixp.0001.use1.cache.amazonaws.com\"\n",
    "    ]\n",
    "    CACHE_PORT = 6379\n",
    "    for CACHE_ADDR in CACHE_ADDRS:\n",
    "        r = Redis(host=CACHE_ADDR, port=CACHE_PORT, db=0, decode_responses=True)\n",
    "\n",
    "        for keys in chunker([k for k in r.keys()], 10000):\n",
    "            r.delete(*keys)"
   ]
  },
  {
   "cell_type": "code",
   "execution_count": 14,
   "metadata": {},
   "outputs": [
    {
     "ename": "ClientError",
     "evalue": "An error occurred (AccessDeniedException) when calling the DescribeTable operation: User: arn:aws:sts::251074890252:assumed-role/engagements-notebook-stac-engagementsnotebookroleB-15FW0GQCXDTU3/SageMaker is not authorized to perform: dynamodb:DescribeTable on resource: arn:aws:dynamodb:us-east-1:251074890252:table/process_history_table",
     "output_type": "error",
     "traceback": [
      "\u001b[0;31m---------------------------------------------------------------------------\u001b[0m",
      "\u001b[0;31mClientError\u001b[0m                               Traceback (most recent call last)",
      "\u001b[0;32m<ipython-input-14-aac5a16e0392>\u001b[0m in \u001b[0;36m<module>\u001b[0;34m()\u001b[0m\n\u001b[1;32m     47\u001b[0m        \u001b[0;34m'process_history_table'\u001b[0m\u001b[0;34m,\u001b[0m\u001b[0;34m\u001b[0m\u001b[0m\n\u001b[1;32m     48\u001b[0m        \u001b[0;34m'file_history_table'\u001b[0m\u001b[0;34m,\u001b[0m\u001b[0;34m\u001b[0m\u001b[0m\n\u001b[0;32m---> 49\u001b[0;31m        \u001b[0;34m'node_id_retry_table'\u001b[0m\u001b[0;34m\u001b[0m\u001b[0m\n\u001b[0m\u001b[1;32m     50\u001b[0m     ])\n",
      "\u001b[0;32m<ipython-input-14-aac5a16e0392>\u001b[0m in \u001b[0;36mreset_db\u001b[0;34m(table_names)\u001b[0m\n\u001b[1;32m      6\u001b[0m     \u001b[0;32mfor\u001b[0m \u001b[0mtable_name\u001b[0m \u001b[0;32min\u001b[0m \u001b[0mtable_names\u001b[0m\u001b[0;34m:\u001b[0m\u001b[0;34m\u001b[0m\u001b[0m\n\u001b[1;32m      7\u001b[0m         \u001b[0mdynamodb\u001b[0m \u001b[0;34m=\u001b[0m \u001b[0mboto3\u001b[0m\u001b[0;34m.\u001b[0m\u001b[0mclient\u001b[0m\u001b[0;34m(\u001b[0m\u001b[0;34m'dynamodb'\u001b[0m\u001b[0;34m,\u001b[0m \u001b[0mregion_name\u001b[0m\u001b[0;34m=\u001b[0m\u001b[0;34m'us-east-1'\u001b[0m\u001b[0;34m)\u001b[0m\u001b[0;34m\u001b[0m\u001b[0m\n\u001b[0;32m----> 8\u001b[0;31m         \u001b[0mtable_description\u001b[0m \u001b[0;34m=\u001b[0m \u001b[0mdynamodb\u001b[0m\u001b[0;34m.\u001b[0m\u001b[0mdescribe_table\u001b[0m\u001b[0;34m(\u001b[0m\u001b[0mTableName\u001b[0m\u001b[0;34m=\u001b[0m\u001b[0mtable_name\u001b[0m\u001b[0;34m)\u001b[0m\u001b[0;34m\u001b[0m\u001b[0m\n\u001b[0m\u001b[1;32m      9\u001b[0m \u001b[0;34m\u001b[0m\u001b[0m\n\u001b[1;32m     10\u001b[0m         \u001b[0mprint\u001b[0m\u001b[0;34m(\u001b[0m\u001b[0mtable_description\u001b[0m\u001b[0;34m[\u001b[0m\u001b[0;34m'Table'\u001b[0m\u001b[0;34m]\u001b[0m\u001b[0;34m)\u001b[0m\u001b[0;34m\u001b[0m\u001b[0m\n",
      "\u001b[0;32m~/anaconda3/envs/python3/lib/python3.6/site-packages/botocore/client.py\u001b[0m in \u001b[0;36m_api_call\u001b[0;34m(self, *args, **kwargs)\u001b[0m\n\u001b[1;32m    355\u001b[0m                     \"%s() only accepts keyword arguments.\" % py_operation_name)\n\u001b[1;32m    356\u001b[0m             \u001b[0;31m# The \"self\" in this scope is referring to the BaseClient.\u001b[0m\u001b[0;34m\u001b[0m\u001b[0;34m\u001b[0m\u001b[0m\n\u001b[0;32m--> 357\u001b[0;31m             \u001b[0;32mreturn\u001b[0m \u001b[0mself\u001b[0m\u001b[0;34m.\u001b[0m\u001b[0m_make_api_call\u001b[0m\u001b[0;34m(\u001b[0m\u001b[0moperation_name\u001b[0m\u001b[0;34m,\u001b[0m \u001b[0mkwargs\u001b[0m\u001b[0;34m)\u001b[0m\u001b[0;34m\u001b[0m\u001b[0m\n\u001b[0m\u001b[1;32m    358\u001b[0m \u001b[0;34m\u001b[0m\u001b[0m\n\u001b[1;32m    359\u001b[0m         \u001b[0m_api_call\u001b[0m\u001b[0;34m.\u001b[0m\u001b[0m__name__\u001b[0m \u001b[0;34m=\u001b[0m \u001b[0mstr\u001b[0m\u001b[0;34m(\u001b[0m\u001b[0mpy_operation_name\u001b[0m\u001b[0;34m)\u001b[0m\u001b[0;34m\u001b[0m\u001b[0m\n",
      "\u001b[0;32m~/anaconda3/envs/python3/lib/python3.6/site-packages/botocore/client.py\u001b[0m in \u001b[0;36m_make_api_call\u001b[0;34m(self, operation_name, api_params)\u001b[0m\n\u001b[1;32m    659\u001b[0m             \u001b[0merror_code\u001b[0m \u001b[0;34m=\u001b[0m \u001b[0mparsed_response\u001b[0m\u001b[0;34m.\u001b[0m\u001b[0mget\u001b[0m\u001b[0;34m(\u001b[0m\u001b[0;34m\"Error\"\u001b[0m\u001b[0;34m,\u001b[0m \u001b[0;34m{\u001b[0m\u001b[0;34m}\u001b[0m\u001b[0;34m)\u001b[0m\u001b[0;34m.\u001b[0m\u001b[0mget\u001b[0m\u001b[0;34m(\u001b[0m\u001b[0;34m\"Code\"\u001b[0m\u001b[0;34m)\u001b[0m\u001b[0;34m\u001b[0m\u001b[0m\n\u001b[1;32m    660\u001b[0m             \u001b[0merror_class\u001b[0m \u001b[0;34m=\u001b[0m \u001b[0mself\u001b[0m\u001b[0;34m.\u001b[0m\u001b[0mexceptions\u001b[0m\u001b[0;34m.\u001b[0m\u001b[0mfrom_code\u001b[0m\u001b[0;34m(\u001b[0m\u001b[0merror_code\u001b[0m\u001b[0;34m)\u001b[0m\u001b[0;34m\u001b[0m\u001b[0m\n\u001b[0;32m--> 661\u001b[0;31m             \u001b[0;32mraise\u001b[0m \u001b[0merror_class\u001b[0m\u001b[0;34m(\u001b[0m\u001b[0mparsed_response\u001b[0m\u001b[0;34m,\u001b[0m \u001b[0moperation_name\u001b[0m\u001b[0;34m)\u001b[0m\u001b[0;34m\u001b[0m\u001b[0m\n\u001b[0m\u001b[1;32m    662\u001b[0m         \u001b[0;32melse\u001b[0m\u001b[0;34m:\u001b[0m\u001b[0;34m\u001b[0m\u001b[0m\n\u001b[1;32m    663\u001b[0m             \u001b[0;32mreturn\u001b[0m \u001b[0mparsed_response\u001b[0m\u001b[0;34m\u001b[0m\u001b[0m\n",
      "\u001b[0;31mClientError\u001b[0m: An error occurred (AccessDeniedException) when calling the DescribeTable operation: User: arn:aws:sts::251074890252:assumed-role/engagements-notebook-stac-engagementsnotebookroleB-15FW0GQCXDTU3/SageMaker is not authorized to perform: dynamodb:DescribeTable on resource: arn:aws:dynamodb:us-east-1:251074890252:table/process_history_table"
     ]
    }
   ],
   "source": [
    "import time\n",
    "import boto3\n",
    "\n",
    "def reset_db(table_names):\n",
    "\n",
    "    for table_name in table_names:\n",
    "        dynamodb = boto3.client('dynamodb', region_name='us-east-1')\n",
    "        table_description = dynamodb.describe_table(TableName=table_name)\n",
    "\n",
    "        print(table_description['Table'])\n",
    "\n",
    "        # delete table\n",
    "\n",
    "        try:\n",
    "            dynamodb.delete_table(TableName=table_name)\n",
    "        except Exception as e:\n",
    "            print('failed to delete {}'.format(e))\n",
    "            try:\n",
    "                dynamodb.delete_table(TableName=table_name)\n",
    "            except Exception as e:\n",
    "                print('failed to delete {}'.format(e))\n",
    "\n",
    "        time.sleep(8)\n",
    "\n",
    "        try:\n",
    "            dynamodb.create_table(\n",
    "                TableName=table_name,\n",
    "                AttributeDefinitions=table_description['Table']['AttributeDefinitions'],\n",
    "\n",
    "                BillingMode='PAY_PER_REQUEST',\n",
    "\n",
    "                KeySchema=table_description['Table']['KeySchema'],\n",
    "\n",
    "            )\n",
    "        except:\n",
    "            time.sleep(5)\n",
    "            dynamodb.create_table(\n",
    "                TableName=table_name,\n",
    "                AttributeDefinitions=table_description['Table']['AttributeDefinitions'],\n",
    "\n",
    "                BillingMode='PAY_PER_REQUEST',\n",
    "\n",
    "                KeySchema=table_description['Table']['KeySchema'],\n",
    "\n",
    "            )\n",
    "reset_db([\n",
    "       'process_history_table',\n",
    "       'file_history_table',\n",
    "       'node_id_retry_table'\n",
    "    ])\n"
   ]
  }
 ],
 "metadata": {
  "kernelspec": {
   "display_name": "conda_python3",
   "language": "python",
   "name": "conda_python3"
  },
  "language_info": {
   "codemirror_mode": {
    "name": "ipython",
    "version": 3
   },
   "file_extension": ".py",
   "mimetype": "text/x-python",
   "name": "python",
   "nbconvert_exporter": "python",
   "pygments_lexer": "ipython3",
   "version": "3.6.5"
  }
 },
 "nbformat": 4,
 "nbformat_minor": 2
}
