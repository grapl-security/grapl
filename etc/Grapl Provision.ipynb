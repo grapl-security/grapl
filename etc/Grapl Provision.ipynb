{
 "cells": [
  {
   "cell_type": "code",
   "execution_count": null,
   "metadata": {},
   "outputs": [],
   "source": [
    "import json\n",
    "import pydgraph\n",
    "\n",
    "from pydgraph import DgraphClient, DgraphClientStub\n",
    "from grapl_analyzerlib.schemas import *\n",
    "\n",
    "from grapl_analyzerlib.schemas.schema_builder import ManyToMany"
   ]
  },
  {
   "cell_type": "code",
   "execution_count": null,
   "metadata": {},
   "outputs": [],
   "source": [
    "def set_schema(client, schema, engagement=False):\n",
    "    op = pydgraph.Operation(schema=schema)\n",
    "    client.alter(op)\n",
    "                 \n",
    "                \n",
    "def drop_all(client):\n",
    "    op = pydgraph.Operation(drop_all=True)\n",
    "    client.alter(op)\n",
    "    \n",
    "def format_schemas(schema_defs):\n",
    "    schemas = \"\\n\\n\".join([schema.to_schema_str() for schema in schema_defs])\n",
    "\n",
    "    types = \"\\n\\n\".join([schema.generate_type() for schema in schema_defs])\n",
    "\n",
    "    return \"\\n\".join([\n",
    "        \"  # Type Definitions\",\n",
    "        types,\n",
    "        \"\\n  # Schema Definitions\",\n",
    "        schemas,\n",
    "    ])"
   ]
  },
  {
   "cell_type": "code",
   "execution_count": null,
   "metadata": {},
   "outputs": [],
   "source": [
    "mclient = DgraphClient(DgraphClientStub('alpha0.master-graph.grapl:9080'))"
   ]
  },
  {
   "cell_type": "code",
   "execution_count": null,
   "metadata": {
    "scrolled": true
   },
   "outputs": [],
   "source": [
    "# drop_all(mclient)\n",
    "\n",
    "schemas = (\n",
    "    AssetSchema(),\n",
    "    ProcessSchema(),\n",
    "    FileSchema(),\n",
    "    IpConnectionSchema(),\n",
    "    IpAddressSchema(),\n",
    "    IpPortSchema(),\n",
    "    NetworkConnectionSchema(),\n",
    "    ProcessInboundConnectionSchema(),\n",
    "    ProcessOutboundConnectionSchema(),\n",
    "    RiskSchema(),\n",
    "    LensSchema(),\n",
    ")\n",
    "\n",
    "schema_str = format_schemas(schemas)\n",
    "# print(schema_str)\n",
    "set_schema(mclient, schema_str)"
   ]
  },
  {
   "cell_type": "code",
   "execution_count": null,
   "metadata": {
    "pycharm": {
     "name": "#%%\n"
    },
    "scrolled": true
   },
   "outputs": [],
   "source": [
    "import os\n",
    "import string\n",
    "\n",
    "from hashlib import pbkdf2_hmac, sha256\n",
    "from random import randint, choice\n",
    "\n",
    "import boto3\n",
    "\n",
    "def hash_password(cleartext, salt) -> str:\n",
    "    hashed = sha256(cleartext).digest()\n",
    "    return pbkdf2_hmac(\n",
    "        'sha256', \n",
    "        hashed,\n",
    "        salt,\n",
    "        512000\n",
    "    ).hex()\n",
    "\n",
    "def create_user(username, cleartext):\n",
    "    assert cleartext\n",
    "    dynamodb = boto3.resource('dynamodb')\n",
    "    table = dynamodb.Table('user_auth_table')\n",
    "    \n",
    "    # We hash before calling 'hashed_password' because the frontend will also perform\n",
    "    # client side hashing\n",
    "    cleartext += \"f1dafbdcab924862a198deaa5b6bae29aef7f2a442f841da975f1c515529d254\";\n",
    "    \n",
    "    cleartext += username;\n",
    "\n",
    "    hashed = sha256(cleartext.encode('utf8')).hexdigest()\n",
    "    \n",
    "    for i in range(0, 5000):\n",
    "        hashed = sha256(hashed.encode('utf8')).hexdigest()\n",
    "    \n",
    "    salt = os.urandom(16)\n",
    "    password = hash_password(hashed.encode('utf8'), salt)\n",
    "    table.put_item(\n",
    "        Item={\n",
    "            'username': username,\n",
    "            'salt': salt,\n",
    "            'password': password\n",
    "        }\n",
    "    )\n",
    "    \n",
    "    \n",
    "\n",
    "allchar = string.ascii_letters + string.punctuation + string.digits\n",
    "password = \"\".join(choice(allchar) for x in range(randint(14, 16)))\n",
    "print(f'your password is {password}')\n",
    "username = ''\n",
    "assert username, 'Replace the username with your desired username'\n",
    "create_user(username, password)\n",
    "password = \"\"\n",
    "print(\"\"\"Make sure to clear this cell and restart the notebook to ensure your password does not leak!\"\"\")"
   ]
  },
  {
   "cell_type": "code",
   "execution_count": null,
   "metadata": {
    "pycharm": {
     "name": "#%%\n"
    }
   },
   "outputs": [],
   "source": [
    "# CLEAR CACHE\n",
    "def clear_redis_caches():\n",
    "    from redis import Redis\n",
    "\n",
    "    def chunker(seq, size):\n",
    "        return [seq[pos:pos + size] for pos in range(0, len(seq), size)]\n",
    "\n",
    "    CACHE_ADDRS = [\n",
    "    \n",
    "    ]\n",
    "    CACHE_PORT = 6379\n",
    "    for CACHE_ADDR in CACHE_ADDRS:\n",
    "        r = Redis(host=CACHE_ADDR, port=CACHE_PORT, db=0, decode_responses=True)\n",
    "\n",
    "        for keys in chunker([k for k in r.keys()], 10000):\n",
    "            r.delete(*keys)\n",
    "            \n",
    "clear_redis_caches()\n"
   ]
  }
 ],
 "metadata": {
  "kernelspec": {
   "display_name": "conda_python3",
   "language": "python",
   "name": "conda_python3"
  },
  "language_info": {
   "codemirror_mode": {
    "name": "ipython",
    "version": 3
   },
   "file_extension": ".py",
   "mimetype": "text/x-python",
   "name": "python",
   "nbconvert_exporter": "python",
   "pygments_lexer": "ipython3",
   "version": "3.6.5"
  }
 },
 "nbformat": 4,
 "nbformat_minor": 2
}