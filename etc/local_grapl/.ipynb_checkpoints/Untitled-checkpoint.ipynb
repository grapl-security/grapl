{
 "cells": [
  {
   "cell_type": "code",
   "execution_count": 1,
   "metadata": {},
   "outputs": [],
   "source": [
    "import json\n",
    "import pydgraph\n",
    "\n",
    "from pprint import pprint\n",
    "\n",
    "from pydgraph import DgraphClient, DgraphClientStub\n",
    "\n",
    "from grapl_analyzerlib.nodes.process_node import ProcessQuery\n",
    "from grapl_analyzerlib.nodes.comparators import Not\n"
   ]
  },
  {
   "cell_type": "code",
   "execution_count": 1,
   "metadata": {},
   "outputs": [],
   "source": [
    "\n",
    "from grapl_analyzerlib.schemas.schema_builder import (\n",
    "    NodeSchema, \n",
    "    generate_plugin_query, \n",
    "    generate_plugin_view\n",
    ")\n"
   ]
  },
  {
   "cell_type": "code",
   "execution_count": null,
   "metadata": {},
   "outputs": [],
   "source": [
    "class Ec2InstanceNodeSchema(NodeSchema):\n",
    "    def __init__(self):\n",
    "        (\n",
    "            self\n",
    "            .with_str_prop(arn)\n",
    "            .with_str_prop(image_id)\n",
    "            .with_str_prop(image_description)\n",
    "            .with_str_prop(instance_id)\n",
    "            .with_int_prop(launch_time)\n",
    "            .with_str_prop(instance_state)\n",
    "            .with_str_prop(instance_type)\n",
    "            .with_str_prop(availability_zone)\n",
    "            .with_str_prop(platform)\n",
    "        )"
   ]
  },
  {
   "cell_type": "code",
   "execution_count": 5,
   "metadata": {},
   "outputs": [],
   "source": [
    "mclient = DgraphClient(DgraphClientStub('localhost:9080'))\n",
    "eclient = DgraphClient(DgraphClientStub('localhost:9081'))\n"
   ]
  },
  {
   "cell_type": "code",
   "execution_count": 17,
   "metadata": {},
   "outputs": [
    {
     "name": "stdout",
     "output_type": "stream",
     "text": [
      "None\n"
     ]
    }
   ],
   "source": [
    "invalid_parents = [\n",
    "    Not(\"services.exe\"),\n",
    "    Not(\"smss.exe\"),\n",
    "    Not(\"ngentask.exe\"),\n",
    "    Not(\"userinit.exe\"),\n",
    "    Not(\"GoogleUpdate.exe\"),\n",
    "    Not(\"conhost.exe\"),\n",
    "    Not(\"MpCmdRun.exe\"),\n",
    "]\n",
    "\n",
    "res = (\n",
    "    ProcessQuery()\n",
    "    .query_first(mclient)\n",
    ")\n",
    "# res.get_process_name()\n",
    "pprint(res)"
   ]
  },
  {
   "cell_type": "code",
   "execution_count": 11,
   "metadata": {},
   "outputs": [
    {
     "name": "stdout",
     "output_type": "stream",
     "text": [
      "[]\n"
     ]
    }
   ],
   "source": [
    "query = \"\"\"\n",
    "\n",
    "    {\n",
    "    q(func: has(node_key)) {\n",
    "      expand(_all_) {\n",
    "          dgraph.type,\n",
    "          expand(_all_)\n",
    "      }\n",
    "    }\n",
    "    }\n",
    "\"\"\"\n",
    "\n",
    "txn = eclient.txn(read_only=True)\n",
    "\n",
    "try:\n",
    "    res = json.loads(txn.query(query).json)['q']\n",
    "finally:\n",
    "    txn.discard()\n",
    "    \n",
    "pprint(res)"
   ]
  }
 ],
 "metadata": {
  "kernelspec": {
   "display_name": "Python 3",
   "language": "python",
   "name": "python3"
  },
  "language_info": {
   "codemirror_mode": {
    "name": "ipython",
    "version": 3
   },
   "file_extension": ".py",
   "mimetype": "text/x-python",
   "name": "python",
   "nbconvert_exporter": "python",
   "pygments_lexer": "ipython3",
   "version": "3.6.9"
  }
 },
 "nbformat": 4,
 "nbformat_minor": 4
}
