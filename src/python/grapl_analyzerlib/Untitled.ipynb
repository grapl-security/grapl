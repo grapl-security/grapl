{
 "cells": [
  {
   "cell_type": "code",
   "execution_count": 46,
   "metadata": {},
   "outputs": [],
   "source": [
    "import json\n",
    "\n",
    "from typing import Any, Dict, List, Optional, Union, Type\n",
    "\n",
    "import pydgraph\n",
    "from pydgraph import DgraphClient, DgraphClientStub\n",
    "\n",
    "from grapl_analyzerlib.query_gen import gen_query_parameterized\n",
    "from grapl_analyzerlib.nodes.process import *\n",
    "from grapl_analyzerlib.nodes.file import *\n",
    "from grapl_analyzerlib.prelude import ProcessQuery, FileQuery\n",
    "\n",
    "import inspect"
   ]
  },
  {
   "cell_type": "code",
   "execution_count": 2,
   "metadata": {},
   "outputs": [],
   "source": [
    "gclient = DgraphClient(DgraphClientStub(\"localhost:9080\"))"
   ]
  },
  {
   "cell_type": "code",
   "execution_count": 47,
   "metadata": {},
   "outputs": [
    {
     "data": {
      "text/plain": [
       "(grapl_analyzerlib.nodes.process.ProcessQuery,\n",
       " grapl_analyzerlib.nodes.entity.EntityQuery,\n",
       " grapl_analyzerlib.nodes.base.BaseQuery,\n",
       " grapl_analyzerlib.queryable.Queryable,\n",
       " typing.Generic,\n",
       " grapl_analyzerlib.extendable.Extendable,\n",
       " abc.ABC,\n",
       " object)"
      ]
     },
     "execution_count": 47,
     "metadata": {},
     "output_type": "execute_result"
    }
   ],
   "source": [
    "invalid_parents = [\n",
    "    Not(\"services.exe\"),\n",
    "    Not(\"smss.exe\"),\n",
    "    Not(\"ngentask.exe\"),\n",
    "    Not(\"userinit.exe\"),\n",
    "    Not(\"GoogleUpdate.exe\"),\n",
    "    Not(\"conhost.exe\"),\n",
    "    Not(\"MpCmdRun.exe\"),\n",
    "]\n",
    "p = (\n",
    "    ProcessQuery()\n",
    "    .with_process_name(eq=invalid_parents)\n",
    "    .with_children(ProcessQuery().with_process_name(eq=\"svchost.exe\"))\n",
    ")\n",
    "\n",
    "inspect.getmro(ProcessQuery)\n",
    "\n",
    "# r = p.query_first(gclient, contains_node_key='9da0f9f8-ca2b-4cf9-8dbf-ba460181b549')\n",
    "# r.node_key"
   ]
  },
  {
   "cell_type": "code",
   "execution_count": 17,
   "metadata": {},
   "outputs": [
    {
     "data": {
      "text/plain": [
       "['svchost.exe']"
      ]
     },
     "execution_count": 17,
     "metadata": {},
     "output_type": "execute_result"
    }
   ],
   "source": [
    "[c.get_process_name() for c in r[0].children]"
   ]
  },
  {
   "cell_type": "code",
   "execution_count": 11,
   "metadata": {},
   "outputs": [
    {
     "data": {
      "text/plain": [
       "['cmd.exe', 'cmd.exe', 'cmd.exe']"
      ]
     },
     "execution_count": 11,
     "metadata": {},
     "output_type": "execute_result"
    }
   ],
   "source": [
    "[c.get_process_name() for c in r[1].children]"
   ]
  },
  {
   "cell_type": "code",
   "execution_count": null,
   "metadata": {},
   "outputs": [],
   "source": []
  }
 ],
 "metadata": {
  "kernelspec": {
   "display_name": "Python 3",
   "language": "python",
   "name": "python3"
  },
  "language_info": {
   "codemirror_mode": {
    "name": "ipython",
    "version": 3
   },
   "file_extension": ".py",
   "mimetype": "text/x-python",
   "name": "python",
   "nbconvert_exporter": "python",
   "pygments_lexer": "ipython3",
   "version": "3.7.3"
  }
 },
 "nbformat": 4,
 "nbformat_minor": 4
}
