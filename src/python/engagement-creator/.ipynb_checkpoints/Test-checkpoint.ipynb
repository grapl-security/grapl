{
 "cells": [
  {
   "cell_type": "code",
   "execution_count": 1,
   "metadata": {},
   "outputs": [
    {
     "name": "stdout",
     "output_type": "stream",
     "text": [
      "Requirement already up-to-date: grapl_analyzerlib in /home/indie/.local/lib/python3.6/site-packages (0.2.23)\n",
      "Requirement already satisfied, skipping upgrade: typing-extensions in /home/indie/.local/lib/python3.6/site-packages (from grapl_analyzerlib) (3.7.4)\n",
      "Requirement already satisfied, skipping upgrade: pydgraph in /home/indie/.local/lib/python3.6/site-packages (from grapl_analyzerlib) (2.0.2)\n",
      "Requirement already satisfied, skipping upgrade: protobuf>=3.6.1 in /home/indie/.local/lib/python3.6/site-packages (from pydgraph->grapl_analyzerlib) (3.6.1)\n",
      "Requirement already satisfied, skipping upgrade: grpcio>=1.18.0 in /home/indie/.local/lib/python3.6/site-packages (from pydgraph->grapl_analyzerlib) (1.24.1)\n",
      "Requirement already satisfied, skipping upgrade: six>=1.9 in /home/indie/.local/lib/python3.6/site-packages (from protobuf>=3.6.1->pydgraph->grapl_analyzerlib) (1.12.0)\n",
      "Requirement already satisfied, skipping upgrade: setuptools in /home/indie/.local/lib/python3.6/site-packages (from protobuf>=3.6.1->pydgraph->grapl_analyzerlib) (41.0.1)\n",
      "\u001b[33mWARNING: You are using pip version 19.3.1; however, version 20.0.2 is available.\n",
      "You should consider upgrading via the 'pip install --upgrade pip' command.\u001b[0m\n"
     ]
    }
   ],
   "source": [
    "!pip install --upgrade --user grapl_analyzerlib"
   ]
  },
  {
   "cell_type": "code",
   "execution_count": 3,
   "metadata": {},
   "outputs": [],
   "source": [
    "import json\n",
    "import pydgraph\n",
    "\n",
    "from pprint import pprint\n",
    "\n",
    "from pydgraph import DgraphClient, DgraphClientStub\n",
    "\n",
    "from grapl_analyzerlib.nodes.process_node import ProcessQuery\n",
    "from grapl_analyzerlib.nodes.comparators import Not\n",
    "\n",
    "from grapl_analyzerlib.nodes.queryable import generate_query"
   ]
  },
  {
   "cell_type": "code",
   "execution_count": 4,
   "metadata": {},
   "outputs": [],
   "source": [
    "mclient = DgraphClient(DgraphClientStub('localhost:9080'))\n",
    "eclient = DgraphClient(DgraphClientStub('localhost:9081'))"
   ]
  },
  {
   "cell_type": "code",
   "execution_count": 12,
   "metadata": {
    "scrolled": true
   },
   "outputs": [],
   "source": [
    "valid_parents = [\n",
    "    Not(\"services.exe\"),\n",
    "    Not(\"smss.exe\"),\n",
    "    Not(\"ngentask.exe\"),\n",
    "    Not(\"userinit.exe\"),\n",
    "    Not(\"GoogleUpdate.exe\"),\n",
    "    Not(\"conhost.exe\"),\n",
    "    Not(\"MpCmdRun.exe\"),\n",
    "]\n",
    "\n",
    "res = (\n",
    "    ProcessQuery()\n",
    "        .with_process_name(eq=valid_parents)\n",
    "        .with_children(\n",
    "            ProcessQuery().with_process_name(eq=\"svchost.exe\")\n",
    "        )\n",
    "    .query_first(eclient)\n",
    ")\n",
    "\n",
    "res.get_process_name()"
   ]
  },
  {
   "cell_type": "code",
   "execution_count": 13,
   "metadata": {},
   "outputs": [
    {
     "ename": "NameError",
     "evalue": "name 'ProcessView' is not defined",
     "output_type": "error",
     "traceback": [
      "\u001b[0;31m---------------------------------------------------------------------------\u001b[0m",
      "\u001b[0;31mNameError\u001b[0m                                 Traceback (most recent call last)",
      "\u001b[0;32m<ipython-input-13-5b8722645f2c>\u001b[0m in \u001b[0;36m<module>\u001b[0;34m\u001b[0m\n\u001b[0;32m----> 1\u001b[0;31m \u001b[0;34m[\u001b[0m\u001b[0mProcessView\u001b[0m\u001b[0;34m,\u001b[0m \u001b[0mProcessView\u001b[0m\u001b[0;34m,\u001b[0m \u001b[0mProcessView\u001b[0m\u001b[0;34m]\u001b[0m\u001b[0;34m\u001b[0m\u001b[0;34m\u001b[0m\u001b[0m\n\u001b[0m",
      "\u001b[0;31mNameError\u001b[0m: name 'ProcessView' is not defined"
     ]
    }
   ],
   "source": []
  },
  {
   "cell_type": "code",
   "execution_count": null,
   "metadata": {},
   "outputs": [],
   "source": []
  },
  {
   "cell_type": "code",
   "execution_count": null,
   "metadata": {},
   "outputs": [],
   "source": []
  }
 ],
 "metadata": {
  "kernelspec": {
   "display_name": "Python 3",
   "language": "python",
   "name": "python3"
  },
  "language_info": {
   "codemirror_mode": {
    "name": "ipython",
    "version": 3
   },
   "file_extension": ".py",
   "mimetype": "text/x-python",
   "name": "python",
   "nbconvert_exporter": "python",
   "pygments_lexer": "ipython3",
   "version": "3.6.9"
  }
 },
 "nbformat": 4,
 "nbformat_minor": 4
}
